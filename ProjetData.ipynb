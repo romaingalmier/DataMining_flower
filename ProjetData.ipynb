{
  "cells": [
    {
      "cell_type": "markdown",
      "metadata": {
        "colab_type": "text",
        "id": "view-in-github"
      },
      "source": [
        "<a href=\"https://colab.research.google.com/github/romaingalmier/DataMining_flower/blob/main/ProjetData.ipynb\" target=\"_parent\"><img src=\"https://colab.research.google.com/assets/colab-badge.svg\" alt=\"Open In Colab\"/></a>"
      ]
    },
    {
      "cell_type": "code",
      "execution_count": 20,
      "metadata": {
        "id": "ZVa62-gszWUs"
      },
      "outputs": [
        {
          "name": "stdout",
          "output_type": "stream",
          "text": [
            "[]\n",
            "{}\n"
          ]
        }
      ],
      "source": [
        "from os import walk\n",
        "\n",
        "listeFichiers = []\n",
        "listeSousRep = []\n",
        "\n",
        "monRepertoire = \"./flower/jpeg-192x192/train\"\n",
        "\n",
        "for (repertoire, sousRepertoires, fichiers) in walk(monRepertoire):\n",
        "    \n",
        "    listeFichiers.append(fichiers)\n",
        "    listeSousRep.append(sousRepertoires)\n",
        "    print(fichiers)\n",
        "    \n",
        "print(listeSousRep)\n",
        "# listeSousRep = listeSousRep[0]\n",
        "listeFichiers = listeFichiers[1:]\n",
        "\n",
        "dicoFleures ={ key : value for key,value in zip(listeSousRep,listeFichiers)}\n",
        "print(dicoFleures)\n",
        "\n",
        "\n",
        "# DicoImages = {}\n",
        "# for SousRep in listeSousRep:\n",
        "#     fichiers = [f for f in listdir(SousRep) if isfile(join(SousRep, f))]\n",
        "#     DicoImages[SousRep] = fichiers\n"
      ]
    }
  ],
  "metadata": {
    "colab": {
      "authorship_tag": "ABX9TyPonR9THb9WA+XNFwex/aDn",
      "include_colab_link": true,
      "name": "ProjetData.ipynb",
      "provenance": []
    },
    "kernelspec": {
      "display_name": "Python 3",
      "name": "python3"
    },
    "language_info": {
      "codemirror_mode": {
        "name": "ipython",
        "version": 3
      },
      "file_extension": ".py",
      "mimetype": "text/x-python",
      "name": "python",
      "nbconvert_exporter": "python",
      "pygments_lexer": "ipython3",
      "version": "3.6.9"
    }
  },
  "nbformat": 4,
  "nbformat_minor": 0
}
